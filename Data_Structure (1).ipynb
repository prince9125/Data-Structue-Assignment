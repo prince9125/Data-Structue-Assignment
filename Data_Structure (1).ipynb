{
  "nbformat": 4,
  "nbformat_minor": 0,
  "metadata": {
    "colab": {
      "provenance": []
    },
    "kernelspec": {
      "name": "python3",
      "display_name": "Python 3"
    },
    "language_info": {
      "name": "python"
    }
  },
  "cells": [
    {
      "cell_type": "markdown",
      "source": [
        "1. Discuss string slicing and provide examples.\n",
        "\n",
        "Answer: Each character in the string can be accessed by its index, or position. Substrings can be extracted using slicing. Strings can be joined together and altered using a variety of techniques (find, replace, etc.).\n",
        "\n",
        "Example:\n",
        "\n",
        "\n",
        "\n"
      ],
      "metadata": {
        "id": "TNdXVH24-rwA"
      }
    },
    {
      "cell_type": "code",
      "source": [
        "#```python name = \"Albert Einstein\" first_letter = name[0] # Accessing initials = name[:4] for the first character (A). #Chopping to obtain initials (Albe)\n",
        "\n",
        "name = \"Albert Einstein\"\n",
        "first_letter = name[0]\n",
        "\n",
        "initials = name[:4]\n",
        "\n",
        "initials"
      ],
      "metadata": {
        "colab": {
          "base_uri": "https://localhost:8080/",
          "height": 35
        },
        "id": "qzP0eUFG_y_L",
        "outputId": "6a09ad7e-f36e-40e9-de48-a1ccface4f9d"
      },
      "execution_count": null,
      "outputs": [
        {
          "output_type": "execute_result",
          "data": {
            "text/plain": [
              "'Albe'"
            ],
            "application/vnd.google.colaboratory.intrinsic+json": {
              "type": "string"
            }
          },
          "metadata": {},
          "execution_count": 2
        }
      ]
    },
    {
      "cell_type": "markdown",
      "source": [
        "2. Explain the key features of lists in Python?\n",
        "\n",
        "Answer: Ordered, mutable collections of elements. Think of shopping lists or task lists. Lists can hold items of various data types (numbers, strings, even other lists!).\n",
        "\n",
        "You can add, remove, or modify elements within a list using indexing and slicing. Lists are versatile for storing and managing collections that might change."
      ],
      "metadata": {
        "id": "dUfAwZ5mBH5h"
      }
    },
    {
      "cell_type": "markdown",
      "source": [
        "3. Describe how to access, modify, and delete elements in a list with examples.\n",
        "\n",
        "Answer:\n",
        "\n"
      ],
      "metadata": {
        "id": "kmRviTRkH1xo"
      }
    },
    {
      "cell_type": "code",
      "source": [
        "shopping_list = [\"apples\", 2, \"milk\", True] # Mixed data types\n",
        "shopping_list.append(\"bread\") # Adding an item\n",
        "del shopping_list[1] # Removing the second item\n",
        "\n",
        "shopping_list"
      ],
      "metadata": {
        "colab": {
          "base_uri": "https://localhost:8080/"
        },
        "id": "_yONjg9pLah1",
        "outputId": "afa0a5be-ecf8-4971-fe7f-a694a4fcea6e"
      },
      "execution_count": null,
      "outputs": [
        {
          "output_type": "execute_result",
          "data": {
            "text/plain": [
              "['apples', 'milk', True, 'bread']"
            ]
          },
          "metadata": {},
          "execution_count": 5
        }
      ]
    },
    {
      "cell_type": "markdown",
      "source": [
        "4. Compare and contrast tuples and lists with examples.\n",
        "\n",
        "Answer:\n",
        "\n",
        "LIST:\n",
        "\n",
        "1. Lists are mutable\n",
        "2. The implication of iterations is Time-consuming.\n",
        "3. The list is better for performing operations, such as insertion and deletion.\n",
        "4. Lists consume more memory.\n",
        "5. Unexpected changes and errors are more likely to occur.\n",
        "\n",
        "TUPLES:\n",
        "\n",
        "1. Tuples are immutable\n",
        "2. The implication of iterations is comparatively Faster.\n",
        "3. A Tuple data type is appropriate for accessing the elements.\n",
        "4. uple consumes less memory as compared to the list.\n",
        "5. Because tuples don’t change they are far less error-prone..\n",
        "\n",
        "\n"
      ],
      "metadata": {
        "id": "spUenLTCMH7Q"
      }
    },
    {
      "cell_type": "code",
      "source": [
        "#Differences Between List Syntax and Tuple Syntax\n",
        "\n",
        "# Creating a list of fruits\n",
        "fruits_list = [\"apples\", \"bananas\", \"cherry\"]\n",
        "\n",
        "# Accessing and modifying elements\n",
        "fruits_list[1] = \"grapes\"\n",
        "fruits_list.append(\"oranges\")\n",
        "\n",
        "# Iteracting through the list\n",
        "for fruits in fruits_list:\n",
        "    print(fruits)\n"
      ],
      "metadata": {
        "colab": {
          "base_uri": "https://localhost:8080/"
        },
        "id": "9Xb20BqbOeE1",
        "outputId": "02c8e521-31f7-468d-9c5b-a7a241f733a3"
      },
      "execution_count": null,
      "outputs": [
        {
          "output_type": "stream",
          "name": "stdout",
          "text": [
            "apples\n",
            "grapes\n",
            "cherry\n",
            "oranges\n"
          ]
        }
      ]
    },
    {
      "cell_type": "markdown",
      "source": [
        "5. Describe the key features of sets and provide examples of their use.\n",
        "\n",
        "Answer: Sets have the same qualities as real numbers. Sets have the same associative property, commutative property, and other properties as numbers. The six essential properties of sets are commutative property, associative property, distributive property, identity property, complement property, and idempotent property.\n",
        "\n",
        "Example:\n"
      ],
      "metadata": {
        "id": "6t5wwyJBPzPP"
      }
    },
    {
      "cell_type": "code",
      "source": [
        "fruits={'apples', 'mango', 'grapes', 'apples'}\n",
        "\n",
        "fruits"
      ],
      "metadata": {
        "colab": {
          "base_uri": "https://localhost:8080/"
        },
        "id": "0LyQOA4sQ2I6",
        "outputId": "459dd64a-2a75-4827-e2c2-43c711d5778c"
      },
      "execution_count": null,
      "outputs": [
        {
          "output_type": "execute_result",
          "data": {
            "text/plain": [
              "{'apples', 'grapes', 'mango'}"
            ]
          },
          "metadata": {},
          "execution_count": 7
        }
      ]
    },
    {
      "cell_type": "markdown",
      "source": [
        "6. Discuss the use cases of tuples and sets in Python programming.\n",
        "\n",
        "Answer:\n",
        "\n",
        "TUPLES:\n",
        "\n",
        "Ordered, immutable collections of elements, similar to lists. However, once created, the items in a tuple cannot be changed. They provide a secure way to store data that shouldn't be modified.\n",
        "\n",
        "You can access elements using indexing and slicing, but you cannot modify the content. Tuples are useful for representing fixed datasets or configurations.\n",
        "\n",
        "SETS:\n",
        "\n",
        "Unordered collections of unique elements. The order doesn't matter, and duplicate entries are not allowed. Sets are useful for checking membership (if an item exists) or finding the intersection/difference between sets.\n",
        "\n",
        "You can add or remove elements from a set, but you cannot access elements by index (since order doesn't matter). Set operations like union (combining elements), intersection (finding common elements), and difference (finding elements in one set but not the other) are efficient.\n"
      ],
      "metadata": {
        "id": "8LL68zsGRj3i"
      }
    },
    {
      "cell_type": "markdown",
      "source": [
        "7. Describe how to add, modify, and delete items in a dictionary with examples.\n",
        "\n",
        "Answer:\n",
        "\n",
        "Add: Use direct assignment (dictionary_name[key] = value) or .update() method.\n",
        "Access: Retrieve values using their keys (value = dictionary_name[key]).\n",
        "Remove: Use del dictionary_name[key], .pop(key), or .popitem().\n",
        "\n",
        "Example:\n",
        "\n"
      ],
      "metadata": {
        "id": "b8tC2RUxTKor"
      }
    },
    {
      "cell_type": "code",
      "source": [
        "# Student information\n",
        "student = {\n",
        "    \"name\": \"bob\",\n",
        "    \"age\": 22,\n",
        "    \"courses\": [\"Math\", \"Chemistry\"]\n",
        "}\n",
        "\n",
        "# Accessing student's age\n",
        "age = student[\"age\"]\n",
        "print(f\"Bob's age: {age}\")\n"
      ],
      "metadata": {
        "colab": {
          "base_uri": "https://localhost:8080/"
        },
        "id": "RGwSCgeoThxo",
        "outputId": "bd7b7191-31b1-4f3f-fed0-d485d4d90e1d"
      },
      "execution_count": null,
      "outputs": [
        {
          "output_type": "stream",
          "name": "stdout",
          "text": [
            "Bob's age: 22\n"
          ]
        }
      ]
    },
    {
      "cell_type": "markdown",
      "source": [
        "8. Discuss the importance of dictionary keys being immutable and provide examples.\n",
        "\n",
        "Answer:\n",
        "The hash table implementation of dictionaries uses a hash value calculated from the key value to find the key. If the key were a mutable object, its value could change, and thus its hash could also change. But since whoever changes the key object can not tell that it was being used as a dictionary key, it can not move the entry around in the dictionary. Then, when you try to look up the same object in the dictionary it won’t be found because its hash value is different. If you tried to look up the old value it wouldn’t be found either, because the value of the object found in that hash bin would be different.\n",
        "\n",
        "Example:\n",
        "or example, in the following dictionary: d = {'name': 'Alice', 'age': 30} 'Name' and 'age' are the keys (immutable), and 'Alice' and '30' are the values (mutable)."
      ],
      "metadata": {
        "id": "Km1Hihz2Uh05"
      }
    },
    {
      "cell_type": "code",
      "source": [
        "tuple1 = (0,1,2,3)\n",
        "tuple1[0] = 4\n",
        "print(tuple1)"
      ],
      "metadata": {
        "colab": {
          "base_uri": "https://localhost:8080/",
          "height": 176
        },
        "id": "ChSuMQdeLgRH",
        "outputId": "3a677dc0-7229-4e1b-c23f-2aacc0d8a6f3"
      },
      "execution_count": 1,
      "outputs": [
        {
          "output_type": "error",
          "ename": "TypeError",
          "evalue": "'tuple' object does not support item assignment",
          "traceback": [
            "\u001b[0;31m---------------------------------------------------------------------------\u001b[0m",
            "\u001b[0;31mTypeError\u001b[0m                                 Traceback (most recent call last)",
            "\u001b[0;32m<ipython-input-1-bd824defe351>\u001b[0m in \u001b[0;36m<cell line: 2>\u001b[0;34m()\u001b[0m\n\u001b[1;32m      1\u001b[0m \u001b[0mtuple1\u001b[0m \u001b[0;34m=\u001b[0m \u001b[0;34m(\u001b[0m\u001b[0;36m0\u001b[0m\u001b[0;34m,\u001b[0m\u001b[0;36m1\u001b[0m\u001b[0;34m,\u001b[0m\u001b[0;36m2\u001b[0m\u001b[0;34m,\u001b[0m\u001b[0;36m3\u001b[0m\u001b[0;34m)\u001b[0m\u001b[0;34m\u001b[0m\u001b[0;34m\u001b[0m\u001b[0m\n\u001b[0;32m----> 2\u001b[0;31m \u001b[0mtuple1\u001b[0m\u001b[0;34m[\u001b[0m\u001b[0;36m0\u001b[0m\u001b[0;34m]\u001b[0m \u001b[0;34m=\u001b[0m \u001b[0;36m4\u001b[0m\u001b[0;34m\u001b[0m\u001b[0;34m\u001b[0m\u001b[0m\n\u001b[0m\u001b[1;32m      3\u001b[0m \u001b[0mprint\u001b[0m\u001b[0;34m(\u001b[0m\u001b[0mtuple1\u001b[0m\u001b[0;34m)\u001b[0m\u001b[0;34m\u001b[0m\u001b[0;34m\u001b[0m\u001b[0m\n",
            "\u001b[0;31mTypeError\u001b[0m: 'tuple' object does not support item assignment"
          ]
        }
      ]
    },
    {
      "cell_type": "code",
      "source": [
        "message = \"Hello world\"\n",
        "message[0] = 'p'\n",
        "print(message)"
      ],
      "metadata": {
        "colab": {
          "base_uri": "https://localhost:8080/",
          "height": 176
        },
        "id": "Rz8TOUkQMWbh",
        "outputId": "b1d4eb47-643b-4312-f68d-ec2c8bdb7107"
      },
      "execution_count": 2,
      "outputs": [
        {
          "output_type": "error",
          "ename": "TypeError",
          "evalue": "'str' object does not support item assignment",
          "traceback": [
            "\u001b[0;31m---------------------------------------------------------------------------\u001b[0m",
            "\u001b[0;31mTypeError\u001b[0m                                 Traceback (most recent call last)",
            "\u001b[0;32m<ipython-input-2-fd3e5be22745>\u001b[0m in \u001b[0;36m<cell line: 2>\u001b[0;34m()\u001b[0m\n\u001b[1;32m      1\u001b[0m \u001b[0mmessage\u001b[0m \u001b[0;34m=\u001b[0m \u001b[0;34m\"Hello world\"\u001b[0m\u001b[0;34m\u001b[0m\u001b[0;34m\u001b[0m\u001b[0m\n\u001b[0;32m----> 2\u001b[0;31m \u001b[0mmessage\u001b[0m\u001b[0;34m[\u001b[0m\u001b[0;36m0\u001b[0m\u001b[0;34m]\u001b[0m \u001b[0;34m=\u001b[0m \u001b[0;34m'p'\u001b[0m\u001b[0;34m\u001b[0m\u001b[0;34m\u001b[0m\u001b[0m\n\u001b[0m\u001b[1;32m      3\u001b[0m \u001b[0mprint\u001b[0m\u001b[0;34m(\u001b[0m\u001b[0mmessage\u001b[0m\u001b[0;34m)\u001b[0m\u001b[0;34m\u001b[0m\u001b[0;34m\u001b[0m\u001b[0m\n",
            "\u001b[0;31mTypeError\u001b[0m: 'str' object does not support item assignment"
          ]
        }
      ]
    }
  ]
}